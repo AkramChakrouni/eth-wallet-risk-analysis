{
 "cells": [
  {
   "cell_type": "code",
   "execution_count": 21,
   "id": "867e8fb2",
   "metadata": {},
   "outputs": [],
   "source": [
    "import json\n",
    "import requests\n",
    "import time\n",
    "from datetime import datetime, timedelta\n",
    "from typing import List, Dict, Any\n",
    "from dotenv import load_dotenv\n",
    "import os\n",
    "from datetime import timezone\n",
    "\n",
    "API_PATH = \"/Users/akramchakrouni/eth-wallet-risk-analysis/sentiment_analysis/config/api_keys.env\"\n",
    "KEY_NAME = \"CRYPTO_PANIC_API_KEY\"\n",
    "\n",
    "BASE_URL = \"https://cryptopanic.com/api/v1/posts/\"\n",
    "\n",
    "MAX_PER_ASSET = 5\n",
    "DAYS_BACK = 7\n",
    "\n",
    "def load_symbols_from_token_list(path: str) -> List[str]:\n",
    "    with open(path, \"r\", encoding=\"utf-8\") as f:\n",
    "        data = json.load(f)\n",
    "    tokens = data.get(\"tokens\", [])\n",
    "    symbols = list({token[\"symbol\"] for token in tokens if \"symbol\" in token})\n",
    "    return symbols\n",
    "\n",
    "def load_api_key(api_path: str, key_name: str) -> str:\n",
    "    \"\"\"Load API key from environment file\"\"\"\n",
    "    load_dotenv(api_path)\n",
    "    api_key = os.getenv(key_name)\n",
    "    if not api_key:\n",
    "        raise ValueError(f\"Missing {key_name} in environment\")\n",
    "    return api_key\n",
    "\n",
    "def save_json(data: object, path: str):\n",
    "    with open(path, \"w\", encoding=\"utf-8\") as f:\n",
    "        json.dump(data, f, indent=2)\n",
    "\n",
    "def get_recent_articles(symbol: str, filter_type: str) -> List[Dict[str, Any]]:\n",
    "\n",
    "    api_key = load_api_key(API_PATH, KEY_NAME)\n",
    "\n",
    "    params = {\n",
    "        \"auth_token\": api_key,\n",
    "        \"currencies\": symbol,\n",
    "        \"filter\": filter_type\n",
    "    }\n",
    "    response = requests.get(BASE_URL, params=params)\n",
    "    if response.status_code != 200:\n",
    "        print(f\"[{symbol}] Error {response.status_code} with filter={filter_type}\")\n",
    "        return []\n",
    "\n",
    "    cutoff = datetime.now(timezone.utc) - timedelta(days=DAYS_BACK)\n",
    "    results = []\n",
    "    for post in response.json().get(\"results\", []):\n",
    "        try:\n",
    "            pub_time = datetime.strptime(post[\"published_at\"], \"%Y-%m-%dT%H:%M:%S%z\")\n",
    "        except Exception:\n",
    "            continue\n",
    "        if pub_time >= cutoff:\n",
    "            results.append({\n",
    "                \"text\": post[\"title\"],\n",
    "                \"source\": post[\"url\"],\n",
    "                \"published_at\": pub_time.isoformat()\n",
    "            })\n",
    "        if len(results) >= MAX_PER_ASSET:\n",
    "            break\n",
    "    return results\n",
    "\n",
    "def fetch_news_for_symbols(symbols: List[str]) -> List[Dict[str, Any]]:\n",
    "    output_data = []\n",
    "    cutoff = (datetime.utcnow() - timedelta(days=DAYS_BACK)).isoformat()\n",
    "\n",
    "    for symbol in symbols:\n",
    "        articles = get_recent_articles(symbol, filter_type=\"hot\")\n",
    "        if not articles:\n",
    "            print(f\"[{symbol}] Fallback to filter=new\")\n",
    "            articles = get_recent_articles(symbol, filter_type=\"new\")\n",
    "\n",
    "        if articles:\n",
    "            output_data.append({\n",
    "                \"asset_name\": symbol,\n",
    "                \"status\": \"analyzed\",\n",
    "                \"texts\": articles\n",
    "            })\n",
    "        else:\n",
    "            output_data.append({\n",
    "                \"asset_name\": symbol,\n",
    "                \"status\": \"no_recent_data\",\n",
    "                \"texts\": [],\n",
    "                \"risk_level\": None,\n",
    "                \"reason\": f\"No qualifying articles found after {cutoff}\",\n",
    "                \"priority\": None\n",
    "            })\n",
    "\n",
    "        time.sleep(1)\n",
    "\n",
    "    return output_data"
   ]
  },
  {
   "cell_type": "code",
   "execution_count": 22,
   "id": "488e9015",
   "metadata": {},
   "outputs": [
    {
     "name": "stdout",
     "output_type": "stream",
     "text": [
      "🔍 Detected symbols: ['ETH', 'USDT', 'USDC', 'PEPE', 'GNO']\n"
     ]
    },
    {
     "name": "stderr",
     "output_type": "stream",
     "text": [
      "/var/folders/6y/01p567bn48j6qsm68vtwjy2w0000gn/T/ipykernel_3657/4275959100.py:70: DeprecationWarning: datetime.datetime.utcnow() is deprecated and scheduled for removal in a future version. Use timezone-aware objects to represent datetimes in UTC: datetime.datetime.now(datetime.UTC).\n",
      "  cutoff = (datetime.utcnow() - timedelta(days=DAYS_BACK)).isoformat()\n"
     ]
    },
    {
     "name": "stdout",
     "output_type": "stream",
     "text": [
      "[USDC] Fallback to filter=new\n",
      "[PEPE] Fallback to filter=new\n",
      "[GNO] Fallback to filter=new\n",
      "✅ Output saved to /Users/akramchakrouni/eth-wallet-risk-analysis/sentiment_analysis/output/cp_output.json\n"
     ]
    }
   ],
   "source": [
    "ASSET_FILE_PATH = \"/Users/akramchakrouni/eth-wallet-risk-analysis/sentiment_analysis/input/assets_input.json\"\n",
    "OUTPUT_PATH = \"/Users/akramchakrouni/eth-wallet-risk-analysis/sentiment_analysis/output/cp_output.json\"\n",
    "\n",
    "if __name__ == \"__main__\":\n",
    "    symbols = load_symbols_from_token_list(ASSET_FILE_PATH)\n",
    "    print(f\"🔍 Detected symbols: {symbols}\")\n",
    "    asset_data = fetch_news_for_symbols(symbols)\n",
    "    save_json(asset_data, OUTPUT_PATH)\n",
    "    print(f\"✅ Output saved to {OUTPUT_PATH}\")"
   ]
  }
 ],
 "metadata": {
  "kernelspec": {
   "display_name": ".venv",
   "language": "python",
   "name": "python3"
  },
  "language_info": {
   "codemirror_mode": {
    "name": "ipython",
    "version": 3
   },
   "file_extension": ".py",
   "mimetype": "text/x-python",
   "name": "python",
   "nbconvert_exporter": "python",
   "pygments_lexer": "ipython3",
   "version": "3.13.3"
  }
 },
 "nbformat": 4,
 "nbformat_minor": 5
}
